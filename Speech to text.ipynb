{
  "nbformat": 4,
  "nbformat_minor": 0,
  "metadata": {
    "colab": {
      "name": "Untitled17.ipynb",
      "provenance": [],
      "collapsed_sections": []
    },
    "kernelspec": {
      "name": "python3",
      "display_name": "Python 3"
    },
    "language_info": {
      "name": "python"
    }
  },
  "cells": [
    {
      "cell_type": "code",
      "execution_count": 1,
      "metadata": {
        "colab": {
          "base_uri": "https://localhost:8080/"
        },
        "id": "WSmvVO19Vyi2",
        "outputId": "6121fd34-3169-42e7-fae4-960362901d3a"
      },
      "outputs": [
        {
          "output_type": "stream",
          "name": "stdout",
          "text": [
            "Looking in indexes: https://pypi.org/simple, https://us-python.pkg.dev/colab-wheels/public/simple/\n",
            "Collecting ibm_watson\n",
            "  Downloading ibm-watson-6.0.0.tar.gz (338 kB)\n",
            "\u001b[K     |████████████████████████████████| 338 kB 7.2 MB/s \n",
            "\u001b[?25h  Installing build dependencies ... \u001b[?25l\u001b[?25hdone\n",
            "  Getting requirements to build wheel ... \u001b[?25l\u001b[?25hdone\n",
            "    Preparing wheel metadata ... \u001b[?25l\u001b[?25hdone\n",
            "Requirement already satisfied: python-dateutil>=2.5.3 in /usr/local/lib/python3.7/dist-packages (from ibm_watson) (2.8.2)\n",
            "Requirement already satisfied: requests<3.0,>=2.0 in /usr/local/lib/python3.7/dist-packages (from ibm_watson) (2.23.0)\n",
            "Collecting ibm-cloud-sdk-core==3.*,>=3.3.6\n",
            "  Downloading ibm-cloud-sdk-core-3.15.3.tar.gz (50 kB)\n",
            "\u001b[K     |████████████████████████████████| 50 kB 8.3 MB/s \n",
            "\u001b[?25hCollecting websocket-client==1.1.0\n",
            "  Downloading websocket_client-1.1.0-py2.py3-none-any.whl (68 kB)\n",
            "\u001b[K     |████████████████████████████████| 68 kB 7.6 MB/s \n",
            "\u001b[?25hCollecting requests<3.0,>=2.0\n",
            "  Downloading requests-2.28.1-py3-none-any.whl (62 kB)\n",
            "\u001b[K     |████████████████████████████████| 62 kB 1.9 MB/s \n",
            "\u001b[?25hCollecting urllib3<2.0.0,>=1.26.0\n",
            "  Downloading urllib3-1.26.10-py2.py3-none-any.whl (139 kB)\n",
            "\u001b[K     |████████████████████████████████| 139 kB 75.0 MB/s \n",
            "\u001b[?25hCollecting PyJWT<3.0.0,>=2.4.0\n",
            "  Downloading PyJWT-2.4.0-py3-none-any.whl (18 kB)\n",
            "Requirement already satisfied: six>=1.5 in /usr/local/lib/python3.7/dist-packages (from python-dateutil>=2.5.3->ibm_watson) (1.15.0)\n",
            "Requirement already satisfied: idna<4,>=2.5 in /usr/local/lib/python3.7/dist-packages (from requests<3.0,>=2.0->ibm_watson) (2.10)\n",
            "Requirement already satisfied: certifi>=2017.4.17 in /usr/local/lib/python3.7/dist-packages (from requests<3.0,>=2.0->ibm_watson) (2022.6.15)\n",
            "Requirement already satisfied: charset-normalizer<3,>=2 in /usr/local/lib/python3.7/dist-packages (from requests<3.0,>=2.0->ibm_watson) (2.1.0)\n",
            "Building wheels for collected packages: ibm-watson, ibm-cloud-sdk-core\n",
            "  Building wheel for ibm-watson (PEP 517) ... \u001b[?25l\u001b[?25hdone\n",
            "  Created wheel for ibm-watson: filename=ibm_watson-6.0.0-py3-none-any.whl size=336807 sha256=f7d27ce4ab584ba9f0003e66b602a33baa1f1e4fd10673b4f05c744f6ca01e3a\n",
            "  Stored in directory: /root/.cache/pip/wheels/31/de/dd/1002a4fdfeed1322ccffb20b0a12e00afbeeee8df4a86769d7\n",
            "  Building wheel for ibm-cloud-sdk-core (setup.py) ... \u001b[?25l\u001b[?25hdone\n",
            "  Created wheel for ibm-cloud-sdk-core: filename=ibm_cloud_sdk_core-3.15.3-py3-none-any.whl size=83622 sha256=0b25abe21190a6fa955de99c124fef972cf2c622d64b77ae88f853942825d674\n",
            "  Stored in directory: /root/.cache/pip/wheels/97/91/e3/dc6ba083b6ac0baf8f6045db52e6eb222d3904b7b2a8411085\n",
            "Successfully built ibm-watson ibm-cloud-sdk-core\n",
            "Installing collected packages: urllib3, requests, PyJWT, websocket-client, ibm-cloud-sdk-core, ibm-watson\n",
            "  Attempting uninstall: urllib3\n",
            "    Found existing installation: urllib3 1.24.3\n",
            "    Uninstalling urllib3-1.24.3:\n",
            "      Successfully uninstalled urllib3-1.24.3\n",
            "  Attempting uninstall: requests\n",
            "    Found existing installation: requests 2.23.0\n",
            "    Uninstalling requests-2.23.0:\n",
            "      Successfully uninstalled requests-2.23.0\n",
            "\u001b[31mERROR: pip's dependency resolver does not currently take into account all the packages that are installed. This behaviour is the source of the following dependency conflicts.\n",
            "google-colab 1.0.0 requires requests~=2.23.0, but you have requests 2.28.1 which is incompatible.\n",
            "datascience 0.10.6 requires folium==0.2.1, but you have folium 0.8.3 which is incompatible.\u001b[0m\n",
            "Successfully installed PyJWT-2.4.0 ibm-cloud-sdk-core-3.15.3 ibm-watson-6.0.0 requests-2.28.1 urllib3-1.26.10 websocket-client-1.1.0\n"
          ]
        }
      ],
      "source": [
        "!pip install ibm_watson"
      ]
    },
    {
      "cell_type": "code",
      "source": [
        "from ibm_watson import SpeechToTextV1\n",
        "from ibm_cloud_sdk_core.authenticators import IAMAuthenticator"
      ],
      "metadata": {
        "id": "wSViC1-KV207"
      },
      "execution_count": 2,
      "outputs": []
    },
    {
      "cell_type": "code",
      "source": [
        "apikey = 'qYlkSgBgOx-OmENXTDNp3ElIRqGByTNTBw8zzasIw5GW' # Using Api and url from from (https://cloud.ibm.com/catalog/services/speech-to-text)\n",
        "url = 'https://api.au-syd.speech-to-text.watson.cloud.ibm.com/instances/8af8d098-8012-44df-86c7-cc1bc59ead0b'"
      ],
      "metadata": {
        "id": "d5c5KJkMV5Na"
      },
      "execution_count": 4,
      "outputs": []
    },
    {
      "cell_type": "code",
      "source": [
        "authenticator = IAMAuthenticator(apikey)\n",
        "stt = SpeechToTextV1(authenticator = authenticator)\n",
        "stt.set_service_url(url)"
      ],
      "metadata": {
        "id": "G4NJizF-V7iq"
      },
      "execution_count": 5,
      "outputs": []
    },
    {
      "cell_type": "code",
      "source": [
        "files = [\"/content/drive/MyDrive/Search Movie with Python - IMDbPY.zip (Unzipped Files)/largefile.mp3\"] # please input a audio file of Indian slang.\n"
      ],
      "metadata": {
        "id": "0Z0tkJ1Zi0gN"
      },
      "execution_count": 18,
      "outputs": []
    },
    {
      "cell_type": "code",
      "source": [
        "results = []\n",
        "for filename in files:\n",
        "    with open(filename, 'rb') as f:\n",
        "        res = stt.recognize(audio=f, content_type='audio/mp3', model='en-IN_Telephony', \\\n",
        "                           inactivity_timeout=360).get_result() # Here \"en-IN_Telephony\" is used for indian english, we can also put different language model for different slang/languages\n",
        "        results.append(res)                                     # IF you want to test of other languages or slangs please change the language model input\n",
        "        #English (Australian)) = en-AU_Telephony\n",
        "        #English (Indian)) = en-IN_Telephony\n",
        "        #English (United Kingdom)) = en-GB_Telephony\n",
        "        #English (United States)) = en-US_Telephony"
      ],
      "metadata": {
        "id": "NgQNl5IuYSma"
      },
      "execution_count": 25,
      "outputs": []
    },
    {
      "cell_type": "code",
      "source": [
        "text = []\n",
        "for file in results:\n",
        "    for result in file['results']:\n",
        "        text.append(result['alternatives'][0]['transcript'].rstrip() + '.\\n')"
      ],
      "metadata": {
        "id": "9aDluYkbYWBK"
      },
      "execution_count": 26,
      "outputs": []
    },
    {
      "cell_type": "code",
      "source": [
        "text"
      ],
      "metadata": {
        "colab": {
          "base_uri": "https://localhost:8080/"
        },
        "id": "pSseRR5rYcDZ",
        "outputId": "e9f7fc6d-19c9-4652-8858-bc9f86f59639"
      },
      "execution_count": 27,
      "outputs": [
        {
          "output_type": "execute_result",
          "data": {
            "text/plain": [
              "['from city to serious calls no one can avoid the blessings and courses of voice recognition software there are lots of unconventional users for this technology including better documentation of patience medical history and even flying planes.\\n',\n",
              " 'but one interesting and practical use for voice recognition is for digital dictation turning spoke on words into return text this is not only convenient for everyday smartphone users but also for people with learning disabilities like the dislikes here or who have more trouble writing than speaking unlike the frequently frustrating autocorrect function for type text speech to text offer can be up to ninety nine percent accurate.\\n',\n",
              " \"let's say you want to send a text message to your mom using your smartphone speech to text software you have already tapped compose and hit the little microphone button in anticipation of speaking into your phone.\\n\",\n",
              " 'there are two crucial arrangements that you need in order to use your voice recognition software a working microphone that can pick up your speech and a working internet connection because smart phones are small and i have even limited space for software much of speech to take process is conducted on the server when you speak the words of your message into the microphone your phone sends the bit stood of data your spoken words created to a central server where it can access the appropriate software and corresponding database.\\n']"
            ]
          },
          "metadata": {},
          "execution_count": 27
        }
      ]
    },
    {
      "cell_type": "code",
      "source": [
        "with open('output.txt', 'w') as out:\n",
        "    out.writelines(text)"
      ],
      "metadata": {
        "id": "xOUrpnPoYdpq"
      },
      "execution_count": 28,
      "outputs": []
    },
    {
      "cell_type": "code",
      "source": [
        ""
      ],
      "metadata": {
        "id": "7v6nR8qVkJsp"
      },
      "execution_count": null,
      "outputs": []
    }
  ]
}